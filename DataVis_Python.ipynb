{
  "nbformat": 4,
  "nbformat_minor": 0,
  "metadata": {
    "colab": {
      "name": "DataVis_Python.ipynb",
      "provenance": [],
      "collapsed_sections": [
        "2srjHZF-G7q7",
        "-i74aQwVJUX0",
        "C0TPuMO-Jb2E",
        "VBmSVjYqJj3R",
        "3A8he82uJo4d"
      ],
      "authorship_tag": "ABX9TyPBz4+ZYIBQHviJJkc9jDu3",
      "include_colab_link": true
    },
    "kernelspec": {
      "name": "python3",
      "display_name": "Python 3"
    },
    "language_info": {
      "name": "python"
    }
  },
  "cells": [
    {
      "cell_type": "markdown",
      "metadata": {
        "id": "view-in-github",
        "colab_type": "text"
      },
      "source": [
        "<a href=\"https://colab.research.google.com/github/nattycep/FIL_Geosensing/blob/main/DataVis_Python.ipynb\" target=\"_parent\"><img src=\"https://colab.research.google.com/assets/colab-badge.svg\" alt=\"Open In Colab\"/></a>"
      ]
    },
    {
      "cell_type": "code",
      "metadata": {
        "id": "cnXVA1XAGr-6"
      },
      "source": [
        ""
      ],
      "execution_count": null,
      "outputs": []
    },
    {
      "cell_type": "markdown",
      "metadata": {
        "id": "2srjHZF-G7q7"
      },
      "source": [
        "# Data Import, Visualization, and Troubleshooting with Python\n",
        "\n",
        "**Expected study time :** 45 min (depending on your background)\n",
        "\n",
        "**Learning outcomes :**\n",
        "\n",
        "*Adapt an existing Python script in google colab in order to:*\n",
        "- Load data from your geosensor\n",
        "- Import data into Python\n",
        "- Visualize the data\n",
        "- Refine and export figures for presentation\n",
        "- Perform basic statistics to support a scientific finding \n",
        "\n",
        "**External References**\n",
        "- the Scipy.stat module https://docs.scipy.org/doc/scipy/reference/stats.html\n",
        "- Matplotlib cheat sheet https://github.com/matplotlib/cheatsheets\n",
        "\n"
      ]
    },
    {
      "cell_type": "markdown",
      "metadata": {
        "id": "-i74aQwVJUX0"
      },
      "source": [
        "# 1.   Load Packages\n",
        "\n"
      ]
    },
    {
      "cell_type": "code",
      "metadata": {
        "id": "WgzZ8IVHJG8s"
      },
      "source": [
        "import numpy as np\n",
        "import matplotlib.pyplot as plt\n",
        "import pandas as pd\n",
        "import scipy.stats as stats"
      ],
      "execution_count": null,
      "outputs": []
    },
    {
      "cell_type": "markdown",
      "metadata": {
        "id": "C0TPuMO-Jb2E"
      },
      "source": [
        "# 2.   Load Data \n"
      ]
    },
    {
      "cell_type": "code",
      "metadata": {
        "id": "agXw597RJbiA"
      },
      "source": [
        ""
      ],
      "execution_count": null,
      "outputs": []
    },
    {
      "cell_type": "markdown",
      "metadata": {
        "id": "VBmSVjYqJj3R"
      },
      "source": [
        "# 3.   Make Figures: Preliminary, Refine, Export\n",
        "\n",
        "Ideas \n",
        "\n",
        "3.1   Time Series\n",
        "3.2   Scatter of one variable against another\n",
        "3.3   Boxplot of one treatment against another\n",
        "3.4   Comparison with a model\n",
        "3.5   Convert data resolution to hourly, daily, etc. \n",
        "3.6   Change analysis\n",
        "3.7   Heatmap\n",
        "3.8   Group scatter  \n",
        "\n"
      ]
    },
    {
      "cell_type": "code",
      "metadata": {
        "id": "h20muCtpH1b5"
      },
      "source": [
        ""
      ],
      "execution_count": null,
      "outputs": []
    },
    {
      "cell_type": "markdown",
      "metadata": {
        "id": "3A8he82uJo4d"
      },
      "source": [
        "\n",
        "# 4.  Perform Statistical Tests \n"
      ]
    },
    {
      "cell_type": "code",
      "metadata": {
        "id": "de2rVKG7JrXX"
      },
      "source": [
        ""
      ],
      "execution_count": null,
      "outputs": []
    }
  ]
}